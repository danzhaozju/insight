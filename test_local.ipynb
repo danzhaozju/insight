{
 "cells": [
  {
   "cell_type": "code",
   "execution_count": 30,
   "metadata": {},
   "outputs": [],
   "source": [
    "import pyspark\n",
    "import pandas as pd\n",
    "from pyspark.sql.types import *\n",
    "from pyspark.sql import SparkSession\n",
    "from pyspark.sql.functions import *\n",
    "from math import sin, cos, sqrt, atan2, radians"
   ]
  },
  {
   "cell_type": "code",
   "execution_count": 2,
   "metadata": {},
   "outputs": [],
   "source": [
    "## Functions"
   ]
  },
  {
   "cell_type": "code",
   "execution_count": 3,
   "metadata": {},
   "outputs": [],
   "source": [
    "def get_df_from_csv_paths(paths):\n",
    "    df = spark.read.format(\"csv\").option(\"header\", \"true\").\\\n",
    "        option('inferschema','true').\\\n",
    "        load(paths.split(','))\n",
    "    return df"
   ]
  },
  {
   "cell_type": "code",
   "execution_count": 4,
   "metadata": {},
   "outputs": [],
   "source": [
    "def add_date_hour_minute_second(df):\n",
    "    df = df.withColumn(\"date\", to_date(col(\"start_time\")))\\\n",
    "        .withColumn(\"hour\",hour(\"start_time\"))\\\n",
    "        .withColumn(\"minute\",minute(\"start_time\"))\\\n",
    "        .withColumn(\"second\",second(\"start_time\"))\n",
    "    return df"
   ]
  },
  {
   "cell_type": "code",
   "execution_count": 5,
   "metadata": {},
   "outputs": [
    {
     "data": {
      "text/plain": [
       "278.54558935106695"
      ]
     },
     "execution_count": 5,
     "metadata": {},
     "output_type": "execute_result"
    }
   ],
   "source": [
    "def get_distance_from_lon_lat(lat1, lon1, lat2, lon2):\n",
    "    # approximate radius of earth in km\n",
    "    R = 6373.0\n",
    "    lat1 = radians(lat1)\n",
    "    lon1 = radians(lon1)\n",
    "    lat2 = radians(lat2)\n",
    "    lon2 = radians(lon2)\n",
    "    dlon = lon2 - lon1\n",
    "    dlat = lat2 - lat1\n",
    "    a = sin(dlat / 2)**2 + cos(lat1) * cos(lat2) * sin(dlon / 2)**2\n",
    "    c = 2 * atan2(sqrt(a), sqrt(1 - a))\n",
    "    return R * c\n",
    "get_distance_from_lon_lat(52.2296756, 21.0122287, 52.406374, 16.9251681)"
   ]
  },
  {
   "cell_type": "code",
   "execution_count": 96,
   "metadata": {},
   "outputs": [],
   "source": [
    "BIKE_SCHEMA_201308_201906 = StructType([\n",
    "\tStructField('duration', IntegerType(), True),\n",
    "\tStructField('start_time', TimestampType(), True),\n",
    "\tStructField('end_time', TimestampType(), True),\n",
    "\tStructField('start_stationID', IntegerType(), True),\n",
    "\tStructField('start_station_name', StringType(), True),\n",
    "\tStructField('start_latitude', DoubleType(), True),\n",
    "\tStructField('start_longitude', DoubleType(), True),\n",
    "\tStructField('end_stationID', IntegerType(), True),\n",
    "\tStructField('end_station_name', StringType(), True),\n",
    "\tStructField('end_latitude', DoubleType(), True),\n",
    "\tStructField('end_longitude', DoubleType(), True),\n",
    "\tStructField('bikeID', IntegerType(), True),\n",
    "\tStructField('user_type', StringType(), True),\n",
    "\tStructField('birth_year', StringType(), True),\n",
    "\tStructField('gender', IntegerType(), True)\n",
    "])\n",
    "\n",
    "YELLOW_TAXI_SCHEMA_201308_201412 = StructType([\n",
    "\tStructField('vendorID', StringType(), True),\n",
    "\tStructField('start_time', TimestampType(), True),\n",
    "\tStructField('end_time', TimestampType(), True),\n",
    "\tStructField('passenger_count', IntegerType(), True),\n",
    "\tStructField('distance', DoubleType(), True),\n",
    "\tStructField('start_longitude', DoubleType(), True),\n",
    "\tStructField('start_latitude', DoubleType(), True),\n",
    "\tStructField('ratecodeID', IntegerType(), True),\n",
    "\tStructField('store_and_fwd_flag', StringType(), True),\n",
    "\tStructField('end_longitude', DoubleType(), True),\n",
    "\tStructField('end_latitude', DoubleType(), True),\n",
    "\tStructField('payment_type', StringType(), True),\n",
    "\tStructField('fare_amount', DoubleType(), True),\n",
    "\tStructField('extra', DoubleType(), True),\n",
    "\tStructField('mta_tax', DoubleType(), True),\n",
    "\tStructField('tip_amount', DoubleType(), True),\n",
    "\tStructField('tolls_amount', DoubleType(), True),\n",
    "\tStructField('total_amount', DoubleType(), True)\n",
    "])\n",
    "\n",
    "\n",
    "YELLOW_TAXI_SCHEMA_201607_201906 = StructType([\n",
    "\tStructField('vendorID', StringType(), True),\n",
    "\tStructField('start_time', TimestampType(), True),\n",
    "\tStructField('end_time', TimestampType(), True),\n",
    "\tStructField('passenger_count', IntegerType(), True),\n",
    "\tStructField('distance', DoubleType(), True),\n",
    "\tStructField('ratecodeID', IntegerType(), True),\n",
    "\tStructField('store_and_fwd_flag', StringType(), True),\n",
    "\tStructField('start_locationID', IntegerType(), True),\n",
    "\tStructField('end_locationID', IntegerType(), True),\n",
    "\tStructField('payment_type', IntegerType(), True),\n",
    "\tStructField('fare_amount', DoubleType(), True),\n",
    "\tStructField('extra', DoubleType(), True),\n",
    "\tStructField('mta_tax', DoubleType(), True),\n",
    "\tStructField('tip_amount', DoubleType(), True),\n",
    "\tStructField('tolls_amount', DoubleType(), True),\n",
    "\tStructField('improvement_surcharge', DoubleType(), True),\n",
    "\tStructField('total_amount', DoubleType(), True)\n",
    "])\n",
    "\n"
   ]
  },
  {
   "cell_type": "code",
   "execution_count": 97,
   "metadata": {},
   "outputs": [],
   "source": [
    "# Create a dataframe from csv paths.\n",
    "def create_df_from_csv_paths(spark, paths, schema = None):\n",
    "    if schema:\n",
    "        df = spark.read.format(\"csv\")\\\n",
    "            .options(header='false') \\\n",
    "            .options(delimiter=',') \\\n",
    "            .options(quote='\"') \\\n",
    "            .options(escape='\"') \\\n",
    "            .schema(schema)\\\n",
    "            .load(paths)\n",
    "    else:\n",
    "        df = spark.read.format(\"csv\").option(\"header\", \"true\").\\\n",
    "            option('inferschema','true').\\\n",
    "            load(paths)\n",
    "    return df"
   ]
  },
  {
   "cell_type": "code",
   "execution_count": 98,
   "metadata": {},
   "outputs": [],
   "source": [
    "path = '/Users/apple/Desktop/Insight/Project/Datasets/yellow_tripdata_2013-08.csv'\n",
    "df = create_df_from_csv_paths(spark, path.split(','), YELLOW_TAXI_SCHEMA_201308_201412)"
   ]
  },
  {
   "cell_type": "code",
   "execution_count": 99,
   "metadata": {},
   "outputs": [
    {
     "name": "stdout",
     "output_type": "stream",
     "text": [
      "+--------+-------------------+-------------------+---------------+--------+---------------+--------------+----------+------------------+-------------+------------+------------+-----------+-----+-------+----------+------------+------------+\n",
      "|vendorID|         start_time|           end_time|passenger_count|distance|start_longitude|start_latitude|ratecodeID|store_and_fwd_flag|end_longitude|end_latitude|payment_type|fare_amount|extra|mta_tax|tip_amount|tolls_amount|total_amount|\n",
      "+--------+-------------------+-------------------+---------------+--------+---------------+--------------+----------+------------------+-------------+------------+------------+-----------+-----+-------+----------+------------+------------+\n",
      "|     CMT|2013-08-26 15:33:22|2013-08-26 15:44:47|              1|     1.0|     -73.989877|     40.734282|         1|                 N|   -73.999419|    40.73137|         CSH|        8.5|  0.0|    0.5|       0.0|         0.0|         9.0|\n",
      "|     CMT|2013-08-29 19:08:04|2013-08-29 19:36:56|              1|     6.7|     -73.979861|     40.760016|         1|                 N|    -73.94187|   40.807038|         CSH|       24.5|  1.0|    0.5|       0.0|         0.0|        26.0|\n",
      "|     CMT|2013-08-26 13:54:27|2013-08-26 14:08:44|              1|     3.0|     -74.010442|     40.710103|         1|                 N|   -73.987447|   40.749764|         CSH|       12.5|  0.0|    0.5|       0.0|         0.0|        13.0|\n",
      "|     CMT|2013-08-30 08:48:17|2013-08-30 09:30:51|              2|     5.2|     -73.927998|     40.763857|         1|                 N|   -73.990953|   40.756045|         CSH|       27.0|  0.0|    0.5|       0.0|         0.0|        27.5|\n",
      "|     CMT|2013-08-26 14:38:38|2013-08-26 14:57:43|              1|     4.2|     -73.990084|     40.742318|         1|                 N|     -74.0143|   40.704145|         CSH|       17.0|  0.0|    0.5|       0.0|         0.0|        17.5|\n",
      "|     CMT|2013-08-31 02:18:59|2013-08-31 02:22:14|              1|     1.1|     -73.968052|     40.759396|         1|                 N|   -73.955766|   40.768182|         CSH|        5.5|  0.5|    0.5|       0.0|         0.0|         6.5|\n",
      "|     CMT|2013-08-26 23:24:54|2013-08-26 23:31:51|              2|     1.6|     -73.981102|     40.758697|         1|                 Y|    -73.99718|   40.744726|         CSH|        7.5|  0.5|    0.5|       0.0|         0.0|         8.5|\n",
      "|     CMT|2013-08-26 19:20:32|2013-08-26 19:24:54|              1|     1.4|     -73.959671|     40.790207|         1|                 N|   -73.977851|   40.782913|         CSH|        6.5|  1.0|    0.5|       0.0|         0.0|         8.0|\n",
      "|     CMT|2013-08-29 20:49:32|2013-08-29 21:06:34|              1|     4.0|     -74.000825|     40.742071|         1|                 N|   -73.957935|   40.761102|         CSH|       16.0|  0.5|    0.5|       0.0|         0.0|        17.0|\n",
      "|     CMT|2013-08-31 17:55:04|2013-08-31 18:06:43|              2|     2.8|     -73.962933|     40.712021|         1|                 N|   -73.956845|   40.744627|         CSH|       11.5|  0.0|    0.5|       0.0|         0.0|        12.0|\n",
      "|     CMT|2013-08-30 04:12:14|2013-08-30 04:17:24|              3|     0.4|     -74.006735|     40.744186|         1|                 N|    -74.00571|   40.748274|         CSH|        4.5|  0.5|    0.5|       0.0|         0.0|         5.5|\n",
      "|     CMT|2013-08-31 23:14:03|2013-08-31 23:31:30|              1|     3.5|     -73.992562|     40.723888|         1|                 N|   -73.989292|   40.762777|         CSH|       14.5|  0.5|    0.5|       0.0|         0.0|        15.5|\n",
      "|     CMT|2013-08-29 13:20:35|2013-08-29 13:45:51|              1|     5.3|      -73.95884|     40.775186|         1|                 N|   -74.006579|   40.741535|         CSH|       21.0|  0.0|    0.5|       0.0|         0.0|        21.5|\n",
      "|     CMT|2013-08-28 07:40:12|2013-08-28 07:44:05|              1|     0.6|     -73.990718|     40.756799|         1|                 N|    -73.98412|   40.763061|         CSH|        4.5|  0.0|    0.5|       0.0|         0.0|         5.0|\n",
      "|     CMT|2013-08-28 19:06:18|2013-08-28 19:12:37|              1|     1.4|     -73.976639|     40.682109|         1|                 Y|   -73.961757|   40.667192|         CSH|        7.0|  1.0|    0.5|       0.0|         0.0|         8.5|\n",
      "|     CMT|2013-08-30 22:09:25|2013-08-30 22:41:09|              3|    17.9|      -73.78323|     40.648609|         2|                 N|    -73.95078|   40.810942|         CSH|       52.0|  0.0|    0.5|       0.0|        5.33|       57.83|\n",
      "|     CMT|2013-08-27 06:48:04|2013-08-27 06:51:28|              1|     0.7|     -73.990588|     40.755846|         1|                 N|   -73.981736|   40.761307|         CSH|        5.0|  0.0|    0.5|       0.0|         0.0|         5.5|\n",
      "|     CMT|2013-08-26 22:16:17|2013-08-26 22:32:51|              1|     7.0|     -73.971287|     40.757111|         1|                 N|   -74.016847|   40.716492|         CSH|       22.0|  0.5|    0.5|       0.0|         0.0|        23.0|\n",
      "|     CMT|2013-08-31 12:48:16|2013-08-31 13:24:26|              1|    17.6|     -73.982264|     40.769707|         2|                 Y|   -73.776409|    40.64525|         CSH|       52.0|  0.0|    0.5|       0.0|         0.0|        52.5|\n",
      "|     CMT|2013-08-30 00:16:44|2013-08-30 00:21:35|              1|     1.0|     -73.937536|     40.810057|         1|                 N|   -73.944815|   40.801686|         CSH|        5.5|  0.5|    0.5|       0.0|         0.0|         6.5|\n",
      "+--------+-------------------+-------------------+---------------+--------+---------------+--------------+----------+------------------+-------------+------------+------------+-----------+-----+-------+----------+------------+------------+\n",
      "only showing top 20 rows\n",
      "\n"
     ]
    }
   ],
   "source": [
    "df.show()"
   ]
  },
  {
   "cell_type": "code",
   "execution_count": 45,
   "metadata": {},
   "outputs": [],
   "source": [
    "# Generate path monthly between time1 and time2\n",
    "def generate_paths(front, tail, time1, time2, output_format):\n",
    "    months = pd.date_range(time1,time2, \n",
    "              freq='MS').strftime(output_format).tolist()\n",
    "    paths = [front + month + tail for month in months]\n",
    "    return paths"
   ]
  },
  {
   "cell_type": "code",
   "execution_count": 73,
   "metadata": {},
   "outputs": [
    {
     "data": {
      "text/plain": [
       "['s3a://ny-taxi-trip-data/yellow_taxi/yellow_taxi/yellow_tripdata_2013-08.csv']"
      ]
     },
     "execution_count": 73,
     "metadata": {},
     "output_type": "execute_result"
    }
   ],
   "source": [
    "head = 's3a://ny-taxi-trip-data/yellow_taxi/yellow_taxi/yellow_tripdata_'\n",
    "tail = '.csv'\n",
    "generate_paths(head,tail,'2013-08-01','2013-08-01','%Y-%m')"
   ]
  },
  {
   "cell_type": "code",
   "execution_count": 6,
   "metadata": {},
   "outputs": [],
   "source": [
    "spark = SparkSession\\\n",
    "    .builder\\\n",
    "    .appName(\"test_local\")\\\n",
    "    .getOrCreate()"
   ]
  },
  {
   "cell_type": "code",
   "execution_count": 7,
   "metadata": {},
   "outputs": [],
   "source": [
    "# read in\n",
    "y_taxi_path = '/Users/apple/Desktop/Insight/Project/Datasets/yellow_tripdata_2018-01.csv'\n",
    "yellow_taxi_trips = get_df_from_csv_paths(y_taxi_path)\n",
    "yellow_taxi_trips = yellow_taxi_trips.withColumn('duration', (col(\"tpep_dropoff_datetime\").cast(\"long\") - col(\"tpep_pickup_datetime\").cast(\"long\"))/60)\n",
    "\n",
    "g_taxi_path = '/Users/apple/Desktop/Insight/Project/Datasets/green_tripdata_2018-01.csv'\n",
    "green_taxi_trips = get_df_from_csv_paths(g_taxi_path)\n",
    "green_taxi_trips = green_taxi_trips.withColumn('duration', (col(\"lpep_dropoff_datetime\").cast(\"long\") - col(\"lpep_pickup_datetime\").cast(\"long\"))/60)\n",
    "\n",
    "bike_paths = \"/Users/apple/Desktop/Insight/Project/Datasets/201801-citibike-tripdata.csv,/Users/apple/Desktop/Insight/Project/Datasets/201306-citibike-tripdata.csv\"\n",
    "bike_trips = get_df_from_csv_paths(bike_paths)"
   ]
  },
  {
   "cell_type": "code",
   "execution_count": 8,
   "metadata": {},
   "outputs": [],
   "source": [
    "p = \"/Users/apple/Desktop/Insight/Project/Datasets/yellow_tripdata_2018-0[12].csv\"\n",
    "t = get_df_from_csv_paths(p)"
   ]
  },
  {
   "cell_type": "code",
   "execution_count": 9,
   "metadata": {},
   "outputs": [
    {
     "data": {
      "text/plain": [
       "8759874"
      ]
     },
     "execution_count": 9,
     "metadata": {},
     "output_type": "execute_result"
    }
   ],
   "source": [
    "t.count()"
   ]
  },
  {
   "cell_type": "code",
   "execution_count": 10,
   "metadata": {},
   "outputs": [
    {
     "data": {
      "text/plain": [
       "8759874"
      ]
     },
     "execution_count": 10,
     "metadata": {},
     "output_type": "execute_result"
    }
   ],
   "source": [
    "yellow_taxi_trips.count()"
   ]
  },
  {
   "cell_type": "code",
   "execution_count": 11,
   "metadata": {},
   "outputs": [
    {
     "name": "stdout",
     "output_type": "stream",
     "text": [
      "root\n",
      " |-- VendorID: integer (nullable = true)\n",
      " |-- tpep_pickup_datetime: timestamp (nullable = true)\n",
      " |-- tpep_dropoff_datetime: timestamp (nullable = true)\n",
      " |-- passenger_count: integer (nullable = true)\n",
      " |-- trip_distance: double (nullable = true)\n",
      " |-- RatecodeID: integer (nullable = true)\n",
      " |-- store_and_fwd_flag: string (nullable = true)\n",
      " |-- PULocationID: integer (nullable = true)\n",
      " |-- DOLocationID: integer (nullable = true)\n",
      " |-- payment_type: integer (nullable = true)\n",
      " |-- fare_amount: double (nullable = true)\n",
      " |-- extra: double (nullable = true)\n",
      " |-- mta_tax: double (nullable = true)\n",
      " |-- tip_amount: double (nullable = true)\n",
      " |-- tolls_amount: double (nullable = true)\n",
      " |-- improvement_surcharge: double (nullable = true)\n",
      " |-- total_amount: double (nullable = true)\n",
      " |-- duration: double (nullable = true)\n",
      "\n"
     ]
    }
   ],
   "source": [
    "yellow_taxi_trips.printSchema()"
   ]
  },
  {
   "cell_type": "code",
   "execution_count": 12,
   "metadata": {},
   "outputs": [],
   "source": [
    "# paths = \"/Users/apple/Desktop/Insight/Project/Datasets/*-citibike-tripdata.csv\"\n",
    "# test_trips = get_df_from_csv_paths(paths)"
   ]
  },
  {
   "cell_type": "code",
   "execution_count": 13,
   "metadata": {},
   "outputs": [],
   "source": [
    "# select and generate columns\n",
    "yellow = yellow_taxi_trips.select(['tpep_pickup_datetime','duration','PULocationID','DOLocationID','trip_distance','total_amount'])\n",
    "yellow = yellow.withColumnRenamed(\"tpep_pickup_datetime\",\"start_time\")\n",
    "yellow = add_date_hour_minute_second(yellow)\n",
    "\n",
    "green = green_taxi_trips.select(['lpep_pickup_datetime','duration','PULocationID','DOLocationID','trip_distance','total_amount'])\n",
    "green = green.withColumnRenamed(\"lpep_pickup_datetime\",\"start_time\")\n",
    "green = add_date_hour_minute_second(green)\n",
    "\n",
    "bike = bike_trips.select(['starttime','tripduration','start station latitude','start station longitude','end station latitude','end station longitude'])\n",
    "bike = bike.withColumnRenamed(\"starttime\",\"start_time\")\\\n",
    "    .withColumnRenamed(\"tripduration\",\"duration\")\\\n",
    "    .withColumnRenamed(\"start station latitude\",\"start_lat\")\\\n",
    "    .withColumnRenamed(\"start station longitude\",\"start_lon\")\\\n",
    "    .withColumnRenamed(\"end station latitude\",\"end_lat\")\\\n",
    "    .withColumnRenamed(\"end station longitude\",\"end_lon\")\n",
    "bike = add_date_hour_minute_second(bike)"
   ]
  },
  {
   "cell_type": "code",
   "execution_count": 14,
   "metadata": {},
   "outputs": [],
   "source": [
    "taxi = yellow.union(green)"
   ]
  },
  {
   "cell_type": "code",
   "execution_count": 15,
   "metadata": {},
   "outputs": [
    {
     "data": {
      "text/plain": [
       "9553403"
      ]
     },
     "execution_count": 15,
     "metadata": {},
     "output_type": "execute_result"
    }
   ],
   "source": [
    "taxi.count()"
   ]
  },
  {
   "cell_type": "code",
   "execution_count": 29,
   "metadata": {},
   "outputs": [
    {
     "name": "stdout",
     "output_type": "stream",
     "text": [
      "root\n",
      " |-- tripduration: integer (nullable = true)\n",
      " |-- starttime: timestamp (nullable = true)\n",
      " |-- stoptime: timestamp (nullable = true)\n",
      " |-- start station id: integer (nullable = true)\n",
      " |-- start station name: string (nullable = true)\n",
      " |-- start station latitude: double (nullable = true)\n",
      " |-- start station longitude: double (nullable = true)\n",
      " |-- end station id: string (nullable = true)\n",
      " |-- end station name: string (nullable = true)\n",
      " |-- end station latitude: string (nullable = true)\n",
      " |-- end station longitude: string (nullable = true)\n",
      " |-- bikeid: integer (nullable = true)\n",
      " |-- usertype: string (nullable = true)\n",
      " |-- birth year: string (nullable = true)\n",
      " |-- gender: integer (nullable = true)\n",
      "\n"
     ]
    }
   ],
   "source": [
    "bike_trips.printSchema()"
   ]
  },
  {
   "cell_type": "code",
   "execution_count": 16,
   "metadata": {},
   "outputs": [
    {
     "name": "stdout",
     "output_type": "stream",
     "text": [
      "root\n",
      " |-- start_time: timestamp (nullable = true)\n",
      " |-- duration: integer (nullable = true)\n",
      " |-- start_lat: double (nullable = true)\n",
      " |-- start_lon: double (nullable = true)\n",
      " |-- end_lat: string (nullable = true)\n",
      " |-- end_lon: string (nullable = true)\n",
      " |-- date: date (nullable = true)\n",
      " |-- hour: integer (nullable = true)\n",
      " |-- minute: integer (nullable = true)\n",
      " |-- second: integer (nullable = true)\n",
      "\n"
     ]
    }
   ],
   "source": [
    "bike.printSchema()"
   ]
  },
  {
   "cell_type": "code",
   "execution_count": 17,
   "metadata": {},
   "outputs": [
    {
     "name": "stdout",
     "output_type": "stream",
     "text": [
      "root\n",
      " |-- start_time: timestamp (nullable = true)\n",
      " |-- duration: double (nullable = true)\n",
      " |-- PULocationID: integer (nullable = true)\n",
      " |-- DOLocationID: integer (nullable = true)\n",
      " |-- trip_distance: double (nullable = true)\n",
      " |-- total_amount: double (nullable = true)\n",
      " |-- date: date (nullable = true)\n",
      " |-- hour: integer (nullable = true)\n",
      " |-- minute: integer (nullable = true)\n",
      " |-- second: integer (nullable = true)\n",
      "\n"
     ]
    }
   ],
   "source": [
    "taxi.printSchema()"
   ]
  },
  {
   "cell_type": "code",
   "execution_count": 18,
   "metadata": {},
   "outputs": [
    {
     "name": "stdout",
     "output_type": "stream",
     "text": [
      "+-------------------+--------+------------+------------+-------------+------------+----------+----+------+------+\n",
      "|         start_time|duration|PULocationID|DOLocationID|trip_distance|total_amount|      date|hour|minute|second|\n",
      "+-------------------+--------+------------+------------+-------------+------------+----------+----+------+------+\n",
      "|2018-01-01 00:21:05|     3.3|          41|          24|          0.5|         5.8|2018-01-01|   0|    21|     5|\n",
      "+-------------------+--------+------------+------------+-------------+------------+----------+----+------+------+\n",
      "only showing top 1 row\n",
      "\n"
     ]
    }
   ],
   "source": [
    "taxi.show(1)"
   ]
  },
  {
   "cell_type": "code",
   "execution_count": 19,
   "metadata": {},
   "outputs": [],
   "source": [
    "taxi.createOrReplaceTempView(\"taxi\")"
   ]
  },
  {
   "cell_type": "code",
   "execution_count": 20,
   "metadata": {},
   "outputs": [],
   "source": [
    "# Beacause the LocationID 264 & 265 represents the unknown areas, so remove them from taxi data\n",
    "taxi_cleaned = spark.sql(\"SELECT *\\\n",
    "    FROM taxi\\\n",
    "    WHERE PULocationID <= 263\")"
   ]
  },
  {
   "cell_type": "code",
   "execution_count": 21,
   "metadata": {},
   "outputs": [],
   "source": [
    "taxi_cleaned.createOrReplaceTempView(\"taxi\")"
   ]
  },
  {
   "cell_type": "code",
   "execution_count": 22,
   "metadata": {},
   "outputs": [
    {
     "name": "stdout",
     "output_type": "stream",
     "text": [
      "+----------+----+------------+------------+-----+------------------+\n",
      "|      date|hour|PULocationID|DOLocationID|count|           avg_dis|\n",
      "+----------+----+------------+------------+-----+------------------+\n",
      "|2018-01-01|   0|          74|          75|   27|0.8940740740740741|\n",
      "+----------+----+------------+------------+-----+------------------+\n",
      "only showing top 1 row\n",
      "\n"
     ]
    }
   ],
   "source": [
    "taxi_pop = spark.sql(\"SELECT date,hour,PULocationID,DOLocationID,COUNT(*) AS count, AVG(trip_distance) AS avg_dis \\\n",
    "    FROM taxi\\\n",
    "    GROUP BY date,hour,PULocationID,DOLocationID\")\n",
    "taxi_pop.show(1)"
   ]
  },
  {
   "cell_type": "code",
   "execution_count": 23,
   "metadata": {},
   "outputs": [
    {
     "name": "stdout",
     "output_type": "stream",
     "text": [
      "+--------------------+--------+-----------+------------+-----------+------------+----------+----+------+------+\n",
      "|          start_time|duration|  start_lat|   start_lon|    end_lat|     end_lon|      date|hour|minute|second|\n",
      "+--------------------+--------+-----------+------------+-----------+------------+----------+----+------+------+\n",
      "|2018-01-01 13:50:...|     970|40.76727216|-73.99392888|40.74901271|-73.98848395|2018-01-01|  13|    50|    57|\n",
      "+--------------------+--------+-----------+------------+-----------+------------+----------+----+------+------+\n",
      "only showing top 1 row\n",
      "\n"
     ]
    }
   ],
   "source": [
    "bike.show(1)"
   ]
  },
  {
   "cell_type": "code",
   "execution_count": 24,
   "metadata": {},
   "outputs": [
    {
     "data": {
      "text/plain": [
       "'/Users/apple/Desktop/Insight/Project/repo'"
      ]
     },
     "execution_count": 24,
     "metadata": {},
     "output_type": "execute_result"
    }
   ],
   "source": [
    "pwd"
   ]
  },
  {
   "cell_type": "code",
   "execution_count": 25,
   "metadata": {},
   "outputs": [
    {
     "name": "stdout",
     "output_type": "stream",
     "text": [
      "+----------+------------------+------------------+-------+--------------+\n",
      "|location_i|         longitude|          latitude|borough|          zone|\n",
      "+----------+------------------+------------------+-------+--------------+\n",
      "|         1|-74.17153349999995|40.689483499999895|    EWR|Newark Airport|\n",
      "+----------+------------------+------------------+-------+--------------+\n",
      "only showing top 1 row\n",
      "\n"
     ]
    }
   ],
   "source": [
    "taxi_locID_path = '/Users/apple/Desktop/Insight/Project/repo/taxi_LocID_convert/taxi_locID_lon_lat.csv'\n",
    "taxi_locIDs = get_df_from_csv_paths(taxi_locID_path)\n",
    "taxi_locIDs.show(1)"
   ]
  },
  {
   "cell_type": "code",
   "execution_count": 26,
   "metadata": {},
   "outputs": [],
   "source": [
    "taxi_locIDs.createOrReplaceTempView(\"loc_id\")\n",
    "taxi_pop.createOrReplaceTempView(\"taxi_pop\")"
   ]
  },
  {
   "cell_type": "code",
   "execution_count": 27,
   "metadata": {},
   "outputs": [
    {
     "name": "stdout",
     "output_type": "stream",
     "text": [
      "+----------+----+------------------+-----------------+------------------+-----------------+-----+------------------+\n",
      "|      date|hour|         start_lon|        start_lat|           end_lon|          end_lat|count|           avg_dis|\n",
      "+----------+----+------------------+-----------------+------------------+-----------------+-----+------------------+\n",
      "|2018-01-01|   0|-73.93741040191821|40.80561276899989|-73.94541517951379|40.79047907499991|   27|0.8940740740740741|\n",
      "+----------+----+------------------+-----------------+------------------+-----------------+-----+------------------+\n",
      "only showing top 1 row\n",
      "\n"
     ]
    }
   ],
   "source": [
    "taxi_lon_lat = spark.sql(\"SELECT date,hour,P.longitude AS start_lon,P.latitude AS start_lat,D.longitude AS end_lon,D.latitude AS end_lat,count,avg_dis\\\n",
    "    FROM taxi_pop,loc_id as P,loc_id as D\\\n",
    "    WHERE PULocationID = P.location_i\\\n",
    "    AND DOLocationID = D.location_i\")\n",
    "taxi_lon_lat.show(1)"
   ]
  },
  {
   "cell_type": "code",
   "execution_count": 28,
   "metadata": {},
   "outputs": [
    {
     "name": "stdout",
     "output_type": "stream",
     "text": [
      "root\n",
      " |-- date: date (nullable = true)\n",
      " |-- hour: integer (nullable = true)\n",
      " |-- start_lon: double (nullable = true)\n",
      " |-- start_lat: double (nullable = true)\n",
      " |-- end_lon: double (nullable = true)\n",
      " |-- end_lat: double (nullable = true)\n",
      " |-- count: long (nullable = false)\n",
      " |-- avg_dis: double (nullable = true)\n",
      "\n"
     ]
    }
   ],
   "source": [
    "taxi_lon_lat.printSchema()"
   ]
  },
  {
   "cell_type": "code",
   "execution_count": null,
   "metadata": {},
   "outputs": [],
   "source": []
  }
 ],
 "metadata": {
  "kernelspec": {
   "display_name": "Python 3",
   "language": "python",
   "name": "python3"
  },
  "language_info": {
   "codemirror_mode": {
    "name": "ipython",
    "version": 3
   },
   "file_extension": ".py",
   "mimetype": "text/x-python",
   "name": "python",
   "nbconvert_exporter": "python",
   "pygments_lexer": "ipython3",
   "version": "3.7.1"
  }
 },
 "nbformat": 4,
 "nbformat_minor": 2
}

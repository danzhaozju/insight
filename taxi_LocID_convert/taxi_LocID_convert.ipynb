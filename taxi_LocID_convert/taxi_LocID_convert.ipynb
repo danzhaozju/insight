{
 "cells": [
  {
   "cell_type": "code",
   "execution_count": 1,
   "metadata": {},
   "outputs": [
    {
     "name": "stdout",
     "output_type": "stream",
     "text": [
      "/Users/apple/Desktop/Insight/Project/repo/taxi_LocID_convert\r\n"
     ]
    }
   ],
   "source": [
    "!pwd"
   ]
  },
  {
   "cell_type": "code",
   "execution_count": 2,
   "metadata": {},
   "outputs": [
    {
     "name": "stdout",
     "output_type": "stream",
     "text": [
      "Requirement already satisfied: pyshp in /Users/apple/anaconda3/lib/python3.7/site-packages (2.1.0)\n",
      "Requirement already satisfied: pyproj in /Users/apple/anaconda3/lib/python3.7/site-packages (2.4.2.post1)\n"
     ]
    }
   ],
   "source": [
    "# pyshp 2.1.0 project description: https://pypi.org/project/pyshp/\n",
    "!pip install pyshp\n",
    "# pyproj 2.4.2\n",
    "!pip install pyproj"
   ]
  },
  {
   "cell_type": "code",
   "execution_count": 3,
   "metadata": {},
   "outputs": [],
   "source": [
    "import pandas as pd\n",
    "import numpy as np\n",
    "import shapefile"
   ]
  },
  {
   "cell_type": "code",
   "execution_count": 4,
   "metadata": {},
   "outputs": [],
   "source": [
    "sf = shapefile.Reader(\"taxi_zones/taxi_zones.shp\")\n",
    "fields_name = [field[0] for field in sf.fields[1:]]\n",
    "shp_dic = dict(zip(fields_name, list(range(len(fields_name)))))\n",
    "attributes = sf.records()\n",
    "shp_attr = [dict(zip(fields_name, attr)) for attr in attributes]"
   ]
  },
  {
   "cell_type": "code",
   "execution_count": 5,
   "metadata": {},
   "outputs": [],
   "source": [
    "def get_lat_lon(sf):\n",
    "    content = []\n",
    "    for sr in sf.shapeRecords():\n",
    "        shape = sr.shape\n",
    "        rec = sr.record\n",
    "        loc_id = rec[shp_dic['location_i']]\n",
    "        \n",
    "        x = (shape.bbox[0]+shape.bbox[2])/2\n",
    "        y = (shape.bbox[1]+shape.bbox[3])/2\n",
    "        \n",
    "        content.append((loc_id, x, y))\n",
    "    return pd.DataFrame(content, columns=[\"location_i\", \"longitude\", \"latitude\"])"
   ]
  },
  {
   "cell_type": "code",
   "execution_count": 6,
   "metadata": {},
   "outputs": [
    {
     "data": {
      "text/html": [
       "<div>\n",
       "<style scoped>\n",
       "    .dataframe tbody tr th:only-of-type {\n",
       "        vertical-align: middle;\n",
       "    }\n",
       "\n",
       "    .dataframe tbody tr th {\n",
       "        vertical-align: top;\n",
       "    }\n",
       "\n",
       "    .dataframe thead th {\n",
       "        text-align: right;\n",
       "    }\n",
       "</style>\n",
       "<table border=\"1\" class=\"dataframe\">\n",
       "  <thead>\n",
       "    <tr style=\"text-align: right;\">\n",
       "      <th></th>\n",
       "      <th>location_i</th>\n",
       "      <th>longitude</th>\n",
       "      <th>latitude</th>\n",
       "      <th>borough</th>\n",
       "      <th>zone</th>\n",
       "      <th>shape_area</th>\n",
       "      <th>shape_leng</th>\n",
       "    </tr>\n",
       "  </thead>\n",
       "  <tbody>\n",
       "    <tr>\n",
       "      <th>0</th>\n",
       "      <td>1.0</td>\n",
       "      <td>-74.171533</td>\n",
       "      <td>40.689483</td>\n",
       "      <td>EWR</td>\n",
       "      <td>Newark Airport</td>\n",
       "      <td>0.000782</td>\n",
       "      <td>0.116357</td>\n",
       "    </tr>\n",
       "    <tr>\n",
       "      <th>1</th>\n",
       "      <td>2.0</td>\n",
       "      <td>-73.822478</td>\n",
       "      <td>40.610824</td>\n",
       "      <td>Queens</td>\n",
       "      <td>Jamaica Bay</td>\n",
       "      <td>0.004866</td>\n",
       "      <td>0.433470</td>\n",
       "    </tr>\n",
       "    <tr>\n",
       "      <th>2</th>\n",
       "      <td>3.0</td>\n",
       "      <td>-73.844953</td>\n",
       "      <td>40.865747</td>\n",
       "      <td>Bronx</td>\n",
       "      <td>Allerton/Pelham Gardens</td>\n",
       "      <td>0.000314</td>\n",
       "      <td>0.084341</td>\n",
       "    </tr>\n",
       "    <tr>\n",
       "      <th>3</th>\n",
       "      <td>4.0</td>\n",
       "      <td>-73.977725</td>\n",
       "      <td>40.724137</td>\n",
       "      <td>Manhattan</td>\n",
       "      <td>Alphabet City</td>\n",
       "      <td>0.000112</td>\n",
       "      <td>0.043567</td>\n",
       "    </tr>\n",
       "    <tr>\n",
       "      <th>4</th>\n",
       "      <td>5.0</td>\n",
       "      <td>-74.187558</td>\n",
       "      <td>40.550664</td>\n",
       "      <td>Staten Island</td>\n",
       "      <td>Arden Heights</td>\n",
       "      <td>0.000498</td>\n",
       "      <td>0.092146</td>\n",
       "    </tr>\n",
       "  </tbody>\n",
       "</table>\n",
       "</div>"
      ],
      "text/plain": [
       "   location_i  longitude   latitude        borough                     zone  \\\n",
       "0         1.0 -74.171533  40.689483            EWR           Newark Airport   \n",
       "1         2.0 -73.822478  40.610824         Queens              Jamaica Bay   \n",
       "2         3.0 -73.844953  40.865747          Bronx  Allerton/Pelham Gardens   \n",
       "3         4.0 -73.977725  40.724137      Manhattan            Alphabet City   \n",
       "4         5.0 -74.187558  40.550664  Staten Island            Arden Heights   \n",
       "\n",
       "   shape_area  shape_leng  \n",
       "0    0.000782    0.116357  \n",
       "1    0.004866    0.433470  \n",
       "2    0.000314    0.084341  \n",
       "3    0.000112    0.043567  \n",
       "4    0.000498    0.092146  "
      ]
     },
     "execution_count": 6,
     "metadata": {},
     "output_type": "execute_result"
    }
   ],
   "source": [
    "df_loc = pd.DataFrame(shp_attr).join(get_lat_lon(sf).set_index(\"location_i\"), on=\"location_i\")\n",
    "df_loc = df_loc[['location_i','longitude','latitude','borough','zone','shape_area','shape_leng']]\n",
    "df_loc.head()"
   ]
  },
  {
   "cell_type": "code",
   "execution_count": 7,
   "metadata": {},
   "outputs": [],
   "source": [
    "df_loc.to_csv('taxi_locID_lon_lat.csv', index = False, header = True)"
   ]
  },
  {
   "cell_type": "code",
   "execution_count": null,
   "metadata": {},
   "outputs": [],
   "source": []
  }
 ],
 "metadata": {
  "kernelspec": {
   "display_name": "Python 3",
   "language": "python",
   "name": "python3"
  },
  "language_info": {
   "codemirror_mode": {
    "name": "ipython",
    "version": 3
   },
   "file_extension": ".py",
   "mimetype": "text/x-python",
   "name": "python",
   "nbconvert_exporter": "python",
   "pygments_lexer": "ipython3",
   "version": "3.7.1"
  }
 },
 "nbformat": 4,
 "nbformat_minor": 2
}

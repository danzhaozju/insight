{
 "cells": [
  {
   "cell_type": "markdown",
   "metadata": {},
   "source": [
    "### File to download bike dataset"
   ]
  },
  {
   "cell_type": "code",
   "execution_count": 1,
   "metadata": {},
   "outputs": [],
   "source": [
    "bike_txt = 'bike_index.txt'"
   ]
  },
  {
   "cell_type": "code",
   "execution_count": 2,
   "metadata": {},
   "outputs": [],
   "source": [
    "bike_result = []\n",
    "with open(bike_txt, \"r\") as f:\n",
    "    for line in f:\n",
    "        pos1 = 1\n",
    "        pos2 = line.find('.zip') + 4\n",
    "        substring = line[pos1:pos2]\n",
    "        new_line = \"wget -P /home/ubuntu/datasets/ \" + \"https://tripdata.s3.amazonaws.com/\" + substring\n",
    "        bike_result.append(new_line)"
   ]
  },
  {
   "cell_type": "code",
   "execution_count": 3,
   "metadata": {},
   "outputs": [
    {
     "data": {
      "text/plain": [
       "'wget -P /home/ubuntu/datasets/ https://tripdata.s3.amazonaws.com/201306-citibike-tripdata.zip'"
      ]
     },
     "execution_count": 3,
     "metadata": {},
     "output_type": "execute_result"
    }
   ],
   "source": [
    "bike_result[0]"
   ]
  },
  {
   "cell_type": "code",
   "execution_count": 4,
   "metadata": {},
   "outputs": [],
   "source": [
    "with open('bike_download_links.sh','w') as f:\n",
    "    f.writelines('%s\\n' % line for line in bike_result)"
   ]
  },
  {
   "cell_type": "markdown",
   "metadata": {},
   "source": [
    "### File to download taxi dataset"
   ]
  },
  {
   "cell_type": "code",
   "execution_count": 5,
   "metadata": {},
   "outputs": [],
   "source": [
    "taxi_txt = 'taxi_index.txt'"
   ]
  },
  {
   "cell_type": "code",
   "execution_count": 6,
   "metadata": {},
   "outputs": [],
   "source": [
    "taxi_result = []\n",
    "with open(taxi_txt, \"r\") as f:\n",
    "    for line in f:\n",
    "        pos_green = line.find('green')\n",
    "        pos_yellow = line.find('yellow')\n",
    "        pos_last = line.find('.csv') + 4\n",
    "        if pos_green >= 0:\n",
    "            substring = line[pos_green:pos_last]\n",
    "        elif pos_yellow >= 0:\n",
    "            substring = line[pos_yellow:pos_last]\n",
    "        else:\n",
    "            continue\n",
    "        new_line = \"wget -P /home/ubuntu/datasets/ \" + \"https://nyc-tlc.s3.amazonaws.com/trip+data/\" + substring\n",
    "        taxi_result.append(new_line)\n",
    "            "
   ]
  },
  {
   "cell_type": "code",
   "execution_count": 7,
   "metadata": {},
   "outputs": [
    {
     "data": {
      "text/plain": [
       "'wget -P /home/ubuntu/datasets/ https://nyc-tlc.s3.amazonaws.com/trip+data/green_tripdata_2013-08.csv'"
      ]
     },
     "execution_count": 7,
     "metadata": {},
     "output_type": "execute_result"
    }
   ],
   "source": [
    "taxi_result[0]"
   ]
  },
  {
   "cell_type": "code",
   "execution_count": 8,
   "metadata": {},
   "outputs": [],
   "source": [
    "with open('taxi_download_links.sh','w') as f:\n",
    "    f.writelines('%s\\n' % line for line in taxi_result)"
   ]
  },
  {
   "cell_type": "code",
   "execution_count": null,
   "metadata": {},
   "outputs": [],
   "source": []
  }
 ],
 "metadata": {
  "kernelspec": {
   "display_name": "Python 3",
   "language": "python",
   "name": "python3"
  },
  "language_info": {
   "codemirror_mode": {
    "name": "ipython",
    "version": 3
   },
   "file_extension": ".py",
   "mimetype": "text/x-python",
   "name": "python",
   "nbconvert_exporter": "python",
   "pygments_lexer": "ipython3",
   "version": "3.7.1"
  }
 },
 "nbformat": 4,
 "nbformat_minor": 2
}
